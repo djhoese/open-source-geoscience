{
 "cells": [
  {
   "cell_type": "code",
   "execution_count": null,
   "metadata": {},
   "outputs": [],
   "source": [
    "import xarray as xr\n",
    "from matplotlib import pyplot as plt\n",
    "%matplotlib inline"
   ]
  },
  {
   "cell_type": "code",
   "execution_count": null,
   "metadata": {},
   "outputs": [],
   "source": [
    "url = 'http://www.esrl.noaa.gov/psd/thredds/dodsC/Datasets/noaa.ersst/sst.mnmean.v4.nc'\n",
    "ds = xr.open_dataset(url)\n",
    "ds"
   ]
  },
  {
   "cell_type": "code",
   "execution_count": null,
   "metadata": {},
   "outputs": [],
   "source": [
    "ds = ds.sel(time=slice('1960', '2018'))\n",
    "ds"
   ]
  },
  {
   "cell_type": "code",
   "execution_count": null,
   "metadata": {},
   "outputs": [],
   "source": [
    "# size in MB\n",
    "ds.nbytes/1e6 "
   ]
  },
  {
   "cell_type": "code",
   "execution_count": null,
   "metadata": {},
   "outputs": [],
   "source": [
    "# actually download the data\n",
    "ds.load()"
   ]
  },
  {
   "cell_type": "code",
   "execution_count": null,
   "metadata": {},
   "outputs": [],
   "source": [
    "import holoviews as hv\n",
    "from holoviews.operation.datashader import regrid\n",
    "hv.extension('bokeh')"
   ]
  },
  {
   "cell_type": "code",
   "execution_count": null,
   "metadata": {},
   "outputs": [],
   "source": [
    "dataset = hv.Dataset(ds.sst)\n",
    "hv_im = (dataset.to(hv.Image, ['lon', 'lat'], dynamic=True)\n",
    "                .redim.range(sst=(-2, 30))\n",
    "                .options(cmap='Magma', width=800, height=450, colorbar=True))\n",
    "\n",
    "%output holomap='scrubber' fps=3\n",
    "regrid(hv_im, precompute=True)"
   ]
  },
  {
   "cell_type": "code",
   "execution_count": null,
   "metadata": {},
   "outputs": [],
   "source": [
    "sst_clim = ds.sst.groupby('time.month').mean(dim='time')\n",
    "sst_anom = ds.sst.groupby('time.month') - sst_clim"
   ]
  },
  {
   "cell_type": "code",
   "execution_count": null,
   "metadata": {},
   "outputs": [],
   "source": [
    "dataset = hv.Dataset(sst_anom)\n",
    "hv_im = (dataset.to(hv.Image, ['lon', 'lat'], dynamic=True)\n",
    "                .redim.range(sst=(-2, 2))\n",
    "                .options(cmap='RdBu_r', width=800, height=450, colorbar=True))\n",
    "\n",
    "%output holomap='scrubber' fps=3\n",
    "regrid(hv_im, precompute=True)"
   ]
  },
  {
   "cell_type": "code",
   "execution_count": null,
   "metadata": {},
   "outputs": [],
   "source": [
    "sst_anom_nino34 = sst_anom.sel(lat=slice(5, -5), lon=slice(190, 240))\n",
    "sst_anom_nino34_mean = sst_anom_nino34.mean(dim=('lon', 'lat'))\n",
    "oni = sst_anom_nino34_mean.rolling(time=3, center=True).mean()"
   ]
  },
  {
   "cell_type": "markdown",
   "metadata": {},
   "source": [
    "![NOAA Nino 3.4](https://camo.githubusercontent.com/f4fb57e583e664d9b5f1861d4b062ad0a32aeac1/68747470733a2f2f7777772e6e6364632e6e6f61612e676f762f6d6f6e69746f72696e672d636f6e74656e742f74656c65636f6e6e656374696f6e732f656c6e2d662d70672e676966)"
   ]
  },
  {
   "cell_type": "code",
   "execution_count": null,
   "metadata": {},
   "outputs": [],
   "source": [
    "plt.grid()\n",
    "oni.plot()\n",
    "plt.ylabel('Anomaly (dec. C)');"
   ]
  },
  {
   "cell_type": "code",
   "execution_count": null,
   "metadata": {},
   "outputs": [],
   "source": [
    "positive_oni = ((oni>0.5).astype('b').rolling(time=5, center=True).sum()==5)\n",
    "negative_oni = ((oni<0.5).astype('b').rolling(time=5, center=True).sum()==5)\n",
    "positive_oni.astype('i4').plot(marker='.')\n",
    "(-negative_oni.astype('i4')).plot(marker='.')"
   ]
  },
  {
   "cell_type": "code",
   "execution_count": null,
   "metadata": {},
   "outputs": [],
   "source": [
    "sst_anom.where(positive_oni).mean(dim='time').plot()"
   ]
  },
  {
   "cell_type": "code",
   "execution_count": null,
   "metadata": {},
   "outputs": [],
   "source": [
    "sst_anom.where(negative_oni).mean(dim='time').plot()"
   ]
  },
  {
   "cell_type": "code",
   "execution_count": null,
   "metadata": {},
   "outputs": [],
   "source": []
  }
 ],
 "metadata": {
  "kernelspec": {
   "display_name": "Python 3",
   "language": "python",
   "name": "python3"
  },
  "language_info": {
   "codemirror_mode": {
    "name": "ipython",
    "version": 3
   },
   "file_extension": ".py",
   "mimetype": "text/x-python",
   "name": "python",
   "nbconvert_exporter": "python",
   "pygments_lexer": "ipython3",
   "version": "3.6.7"
  }
 },
 "nbformat": 4,
 "nbformat_minor": 2
}
